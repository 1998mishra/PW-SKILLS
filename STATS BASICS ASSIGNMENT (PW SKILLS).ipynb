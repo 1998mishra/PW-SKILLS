{
 "cells": [
  {
   "cell_type": "code",
   "execution_count": 2,
   "metadata": {},
   "outputs": [
    {
     "data": {
      "text/plain": [
       "'1. Explain the different types of data (qualitative and quantitative) and provide examples of each.\\n      Discuss  nominal, ordinal, interval, and ratio scales.'"
      ]
     },
     "execution_count": 2,
     "metadata": {},
     "output_type": "execute_result"
    }
   ],
   "source": [
    "\"\"\"1. Explain the different types of data (qualitative and quantitative) and provide examples of each.\n",
    "      Discuss  nominal, ordinal, interval, and ratio scales.\"\"\"\n",
    "\n",
    "# Types of Data\n",
    "# Data is generally categorized into qualitative and quantitative types. Understanding these categories is crucial for analyzing and interpreting data properly.\n",
    "\n",
    "# 1. Qualitative Data (Categorical Data)\n",
    "# Qualitative data is non-numerical and describes qualities or characteristics. It can be grouped into categories but cannot be measured.\n",
    "\n",
    "# Examples:\n",
    "# Gender (male, female, non-binary)\n",
    "# Eye color (blue, green, brown)\n",
    "# Brand of a smartphone (Apple, Samsung, Google)\n",
    "# There are two subtypes of qualitative data:\n",
    "\n",
    "# Nominal Data: Categories that do not have a natural order.\n",
    "# Examples: Hair color, nationality, blood type.\n",
    "# Ordinal Data: Categories that have a meaningful order but the differences between categories are not measurable.\n",
    "# Examples: Education level (high school, undergraduate, graduate), customer satisfaction rating (poor, fair, good, excellent).\n",
    "\n",
    "# 2. Quantitative Data\n",
    "# Quantitative data is numerical and can be measured. It is further classified into discrete and continuous data.\n",
    "\n",
    "# Discrete Data: Data that can take only certain values (whole numbers).\n",
    "# Examples: Number of children in a family, number of cars owned.\n",
    "# Continuous Data: Data that can take any value within a given range.\n",
    "# Examples: Height, weight, temperature.\n",
    "# Quantitative data can be measured using interval and ratio scales.\n",
    "\n",
    "# Interval Data: Numeric data where the difference between values is meaningful, but there is no true zero point.\n",
    "\n",
    "# Examples: Temperature in Celsius or Fahrenheit, calendar years. The difference between 20°C and 30°C is meaningful, but 0°C does not mean \"no temperature.\"\n",
    "# Ratio Data: Numeric data with a true zero point, meaning that zero represents the absence of the measured quantity.\n",
    "\n",
    "# Examples: Weight, height, age, income. A weight of 0 means no weight, and the ratio of 20 kg to 10 kg (2:1) is meaningful."
   ]
  },
  {
   "cell_type": "code",
   "execution_count": 3,
   "metadata": {},
   "outputs": [
    {
     "data": {
      "text/plain": [
       "'2. What are the measures of central tendency, and when should you use each? Discuss the mean, median,and mode with \\n      examples and situations where each is appropriate'"
      ]
     },
     "execution_count": 3,
     "metadata": {},
     "output_type": "execute_result"
    }
   ],
   "source": [
    "\"\"\"2. What are the measures of central tendency, and when should you use each? Discuss the mean, median,and mode with \n",
    "      examples and situations where each is appropriate\"\"\"\n",
    "\n",
    "# Measures of Central Tendency\n",
    "\n",
    "# Mean (Average):\n",
    "\n",
    "# Definition: Sum of all values divided by the number of values.\n",
    "# Use: When data is evenly distributed without extreme outliers.\n",
    "# Example: Average salary of employees.\n",
    "# When to use: Best for symmetrical distributions without outliers.\n",
    "\n",
    "# Median:\n",
    "\n",
    "# Definition: Middle value when data is ordered.\n",
    "# Use: When data has outliers or is skewed.\n",
    "# Example: Median house price in a market with a few very expensive houses.\n",
    "# When to use: Preferred for skewed distributions or when outliers are present.\n",
    "\n",
    "# Mode:\n",
    "\n",
    "# Definition: Most frequently occurring value.\n",
    "# Use: For categorical data or to find the most common value.\n",
    "# Example: Most common shoe size sold in a store.\n",
    "# When to use: Ideal for categorical data or when identifying the most frequent occurrence."
   ]
  },
  {
   "cell_type": "code",
   "execution_count": 4,
   "metadata": {},
   "outputs": [
    {
     "data": {
      "text/plain": [
       "'3. Explain the concept of dispersion. How do variance and standard deviation measure the spread of data?'"
      ]
     },
     "execution_count": 4,
     "metadata": {},
     "output_type": "execute_result"
    }
   ],
   "source": [
    "\"\"\"3. Explain the concept of dispersion. How do variance and standard deviation measure the spread of data?\"\"\"\n",
    "\n",
    "# Concept of Dispersion\n",
    "\n",
    "# Dispersion refers to the extent to which data points in a dataset vary or spread out from the central value (such as the mean). It provides insight into the distribution of data.\n",
    "\n",
    "# Variance and Standard Deviation\n",
    "\n",
    "# Variance:\n",
    "\n",
    "# Definition: The average of the squared differences from the mean.\n",
    "# How it measures spread: Variance shows how far each data point is from the mean on average. A higher variance indicates that data points are more spread out.\n",
    "# Formula:\n",
    "# Variance = Σ(Xi - μ)² / n\n",
    "# Where Xi are data points, μ is the mean, and n is the number of data points.\n",
    "\n",
    "# Standard Deviation:\n",
    "\n",
    "# Definition: The square root of variance, providing a measure of dispersion in the same units as the data.\n",
    "# How it measures spread: Standard deviation shows how much, on average, each data point deviates from the mean. It is widely used because it’s in the same unit as the original data, making it easier to interpret.\n",
    "# Formula:\n",
    "# Standard Deviation = √Variance"
   ]
  },
  {
   "cell_type": "code",
   "execution_count": 5,
   "metadata": {},
   "outputs": [
    {
     "data": {
      "text/plain": [
       "'4. What is a box plot, and what can it tell you about the distribution of data?'"
      ]
     },
     "execution_count": 5,
     "metadata": {},
     "output_type": "execute_result"
    }
   ],
   "source": [
    "\"\"\"4. What is a box plot, and what can it tell you about the distribution of data?\"\"\"\n",
    "\n",
    "# Box Plot (Box-and-Whisker Plot)\n",
    "# A box plot is a graphical representation of the distribution of a dataset that summarizes key statistics in a visual format. It provides insights into the central tendency, spread, and skewness of the data.\n",
    "\n",
    "# Key Components of a Box Plot:\n",
    "\n",
    "# Minimum: The smallest data point, excluding outliers.\n",
    "# First Quartile (Q1): The median of the lower half of the dataset (25th percentile).\n",
    "# Median (Q2): The middle value of the dataset (50th percentile).\n",
    "# Third Quartile (Q3): The median of the upper half of the dataset (75th percentile).\n",
    "# Maximum: The largest data point, excluding outliers.\n",
    "# Whiskers: Lines extending from the quartiles to the minimum and maximum values (or to a point excluding outliers).\n",
    "# Outliers: Data points that fall significantly outside the range of the rest of the data, often shown as individual points.\n",
    "\n",
    "# What It Tells You:\n",
    "\n",
    "# Distribution Shape: If the box is skewed to one side, the data may be skewed (right-skewed or left-skewed).\n",
    "# Spread of Data: The length of the box and whiskers shows how spread out the data is.\n",
    "# Central Tendency: The line inside the box represents the median, showing where the center of the data lies.\n",
    "# Outliers: Points outside the whiskers indicate outliers in the data.\n",
    "# Quartile Range: The distance between Q1 and Q3 (called the interquartile range, or IQR) shows the range of the middle 50% of the data. A larger IQR indicates more variability."
   ]
  },
  {
   "cell_type": "code",
   "execution_count": 6,
   "metadata": {},
   "outputs": [
    {
     "data": {
      "text/plain": [
       "'5. Discuss the role of random sampling in making inferences about populations.'"
      ]
     },
     "execution_count": 6,
     "metadata": {},
     "output_type": "execute_result"
    }
   ],
   "source": [
    "\"\"\"5. Discuss the role of random sampling in making inferences about populations.\"\"\"\n",
    "\n",
    "# Role of Random Sampling in Inferences About Populations\n",
    "\n",
    "# Random sampling is a process where each member of a population has an equal chance of being selected for a sample. It plays a crucial role in making inferences about a population because it ensures that the sample is representative, reducing bias and improving the accuracy of conclusions drawn about the entire population.\n",
    "\n",
    "# Key Benefits of Random Sampling:\n",
    "\n",
    "# Reduces Bias:\n",
    "\n",
    "# Random sampling eliminates systematic biases, ensuring that every individual in the population has an equal chance of being chosen. This increases the likelihood that the sample accurately reflects the population.\n",
    "\n",
    "# Enables Generalization:\n",
    "\n",
    "# By using a random sample, researchers can make reliable inferences and generalize findings from the sample to the larger population. The validity of these inferences depends on how representative the sample is.\n",
    "\n",
    "# Allows Estimation of Population Parameters:\n",
    "\n",
    "# Random sampling allows the estimation of population parameters (e.g., mean, proportion) using sample statistics. For instance, you can calculate the sample mean and use it as an estimate of the population mean.\n",
    "\n",
    "# Supports Hypothesis Testing:\n",
    "\n",
    "# Random samples enable hypothesis testing (e.g., testing whether a population mean equals a specific value) by allowing the calculation of probabilities and error rates (like confidence intervals and p-values).\n",
    "\n",
    "# Facilitates the Use of Statistical Tools:\n",
    "\n",
    "# Most statistical tools and methods, such as the central limit theorem, assume random sampling. This assumption ensures that the sample’s distribution approximates the population distribution."
   ]
  },
  {
   "cell_type": "code",
   "execution_count": 7,
   "metadata": {},
   "outputs": [
    {
     "data": {
      "text/plain": [
       "'6. Explain the concept of skewness and its types. How does skewness affect the interpretation of data?'"
      ]
     },
     "execution_count": 7,
     "metadata": {},
     "output_type": "execute_result"
    }
   ],
   "source": [
    "\"\"\"6. Explain the concept of skewness and its types. How does skewness affect the interpretation of data?\"\"\"\n",
    "\n",
    "# Concept of Skewness\n",
    "\n",
    "# Skewness refers to the asymmetry in the distribution of data. It indicates whether the data points are symmetrically distributed or lean more towards one side of the distribution. A perfectly symmetrical distribution has a skewness of zero.\n",
    "\n",
    "# Types of Skewness\n",
    "\n",
    "# Positive Skewness (Right-Skewed):\n",
    "\n",
    "# Definition: The right tail (higher values) is longer, and most data points are concentrated on the left side of the distribution.\n",
    "# Characteristics:\n",
    "# Mean > Median > Mode.\n",
    "# The bulk of the values are lower, with a few higher outliers.\n",
    "# Example: Income distribution, where most people earn lower salaries, but a few high earners skew the data to the right.\n",
    "\n",
    "# Negative Skewness (Left-Skewed):\n",
    "\n",
    "# Definition: The left tail (lower values) is longer, and most data points are concentrated on the right side of the distribution.\n",
    "# Characteristics:\n",
    "# Mean < Median < Mode.\n",
    "# The bulk of the values are higher, with a few lower outliers.\n",
    "# Example: Age at retirement, where most people retire around a certain age, but a few retire much earlier.\n",
    "\n",
    "# Zero Skewness (Symmetrical Distribution):\n",
    "\n",
    "# Definition: The distribution is perfectly symmetrical with no skewness.\n",
    "# Characteristics:\n",
    "# Mean = Median = Mode.\n",
    "# Example: Heights of adult males in a population where the data is evenly distributed around the mean.\n",
    "\n",
    "# Effect of Skewness on Data Interpretation\n",
    "\n",
    "# Influence on Mean and Median: In a skewed distribution, the mean is pulled in the direction of the tail, while the median remains closer to the central value. This is why the median is often preferred over the mean for skewed data.\n",
    "\n",
    "# Impact on Data Analysis: Skewness can distort statistical analyses that assume normality (e.g., hypothesis tests, regression). For highly skewed data, transformations or non-parametric methods are often used to get a more accurate analysis.\n",
    "\n",
    "# Misleading Averages: In positively skewed data (e.g., income), the mean might suggest a higher typical value than most individuals actually experience."
   ]
  },
  {
   "cell_type": "code",
   "execution_count": 8,
   "metadata": {},
   "outputs": [
    {
     "data": {
      "text/plain": [
       "'7. What is the interquartile range (IQR), and how is it used to detect outliers?'"
      ]
     },
     "execution_count": 8,
     "metadata": {},
     "output_type": "execute_result"
    }
   ],
   "source": [
    "\"\"\"7. What is the interquartile range (IQR), and how is it used to detect outliers?\"\"\"\n",
    "\n",
    "# Interquartile Range (IQR)\n",
    "\n",
    "# The interquartile range (IQR) is a measure of statistical dispersion that represents the range within which the middle 50% of the data falls. It is calculated as the difference between the third quartile (Q3) and the first quartile (Q1):\n",
    "\n",
    "# IQR = Q3 - Q1\n",
    "# Q1 (First Quartile): The 25th percentile of the data, below which 25% of the values lie.\n",
    "# Q3 (Third Quartile): The 75th percentile of the data, below which 75% of the values lie.\n",
    "\n",
    "\n",
    "# How IQR is Used to Detect Outliers\n",
    "# Outliers are data points that fall far outside the typical range of the data. The IQR is commonly used to detect outliers by identifying values that fall below or above a certain range. The typical rule is:\n",
    "\n",
    "# Lower Bound: Values below 𝑄1−1.5×𝐼𝑄𝑅 are considered outliers.\n",
    "# Upper Bound: Values above 𝑄3+1.5×𝐼𝑄𝑅 are considered outliers.\n",
    "\n",
    "# Steps to Detect Outliers Using IQR:\n",
    "# Calculate the IQR.\n",
    "# Multiply the IQR by 1.5.\n",
    "# Subtract this value from Q1 to find the lower bound.\n",
    "# Add this value to Q3 to find the upper bound.\n",
    "# Any data points outside these bounds are considered outliers.\n",
    "\n",
    "# Example:\n",
    "# If Q1 = 25 and Q3 = 75, then:\n",
    "\n",
    "# IQR = 75 - 25 = 50\n",
    "\n",
    "# Lower Bound: 25−1.5×50=25−75=−50\n",
    "# Upper Bound: 75+1.5×50=75+75=150\n",
    "# Any values below -50 or above 150 would be considered outliers."
   ]
  },
  {
   "cell_type": "code",
   "execution_count": 9,
   "metadata": {},
   "outputs": [
    {
     "data": {
      "text/plain": [
       "'8. Discuss the conditions under which the binomial distribution is used.'"
      ]
     },
     "execution_count": 9,
     "metadata": {},
     "output_type": "execute_result"
    }
   ],
   "source": [
    "\"\"\"8. Discuss the conditions under which the binomial distribution is used.\"\"\"\n",
    "\n",
    "# Binomial Distribution\n",
    "\n",
    "# The binomial distribution is used to model the number of successes in a fixed number of independent trials, where each trial has only two possible outcomes: success or failure. It is appropriate under specific conditions.\n",
    "\n",
    "# Conditions for Using the Binomial Distribution:\n",
    "    \n",
    "# Fixed Number of Trials (n):\n",
    "\n",
    "# The number of trials or experiments (denoted as n) is set in advance. For example, flipping a coin 10 times.\n",
    "\n",
    "# Two Possible Outcomes:\n",
    "\n",
    "# Each trial must result in one of two outcomes: success or failure. These outcomes are often referred to as binary outcomes.\n",
    "# Examples:\n",
    "# Success = heads, failure = tails (coin flip).\n",
    "# Success = passing, failure = failing (exam result).\n",
    "\n",
    "# Independent Trials:\n",
    "\n",
    "# The outcome of each trial must be independent of others. The result of one trial does not affect the results of any other trial.\n",
    "# Example: Flipping a coin multiple times — each flip is independent of the others.\n",
    "\n",
    "# Constant Probability of Success (p):\n",
    "\n",
    "# The probability of success (denoted as p) remains the same for each trial.\n",
    "# Example: In a coin flip, the probability of getting heads (success) is always 0.5, regardless of previous flips.\n",
    "# Binomial Distribution Formula:\n",
    "# The probability of getting exactly k successes in n trials is given by the binomial probability formula:\n",
    "\n",
    "# P(X = k) = (n choose k) * p^k * (1-p)^(n-k)\n",
    "\n",
    "# Where:\n",
    "# n choose k = n! / (k!(n-k)!)\n",
    "# p = probability of success.\n",
    "# 1-p = probability of failure.\n",
    "# k = number of successes.\n",
    "\n",
    "# Examples of Binomial Distribution:\n",
    "\n",
    "# Tossing a fair coin 10 times and counting how many heads you get.\n",
    "# Testing a new drug and counting how many of 100 patients show improvement.\n",
    "# Quality control, where 20 items are inspected, and the number of defective items is recorded."
   ]
  },
  {
   "cell_type": "code",
   "execution_count": 10,
   "metadata": {},
   "outputs": [
    {
     "data": {
      "text/plain": [
       "'9. Explain the properties of the normal distribution and the empirical rule (68-95-99.7 rule).'"
      ]
     },
     "execution_count": 10,
     "metadata": {},
     "output_type": "execute_result"
    }
   ],
   "source": [
    "\"\"\"9. Explain the properties of the normal distribution and the empirical rule (68-95-99.7 rule).\"\"\"\n",
    "\n",
    "# Properties of the Normal Distribution\n",
    "\n",
    "# The normal distribution (also called Gaussian distribution) is a continuous probability distribution that is symmetric and bell-shaped. It is one of the most commonly used distributions in statistics.\n",
    "\n",
    "# Symmetry:\n",
    "\n",
    "# The distribution is symmetric about the mean. The left and right sides of the curve are mirror images.\n",
    "\n",
    "# Mean, Median, Mode:\n",
    "\n",
    "# The mean, median, and mode of a normal distribution are equal and located at the center of the distribution.\n",
    "\n",
    "# Bell Shape:\n",
    "\n",
    "# Most of the data is concentrated around the mean, with the probability tapering off symmetrically as you move away from the mean.\n",
    "\n",
    "# Asymptotic:\n",
    "\n",
    "# The tails of the normal distribution approach, but never touch, the horizontal axis (x-axis).\n",
    "\n",
    "# Standard Normal Distribution:\n",
    "\n",
    "# When the normal distribution has a mean of 0 and a standard deviation of 1, it is called the standard normal distribution.\n",
    "# Empirical Rule (68-95-99.7 Rule)\n",
    "\n",
    "# The empirical rule (also known as the 68-95-99.7 rule) describes the percentage of data that falls within certain standard deviations of the mean in a normal distribution:\n",
    "\n",
    "# 68% of data: Approximately 68% of the data falls within 1 standard deviation (σ) of the mean (μ), i.e., between 𝜇𝜎μ−σ and 𝜇+𝜎μ+σ.\n",
    "\n",
    "# 95% of data: Approximately 95% of the data falls within 2 standard deviations of the mean, i.e., between 𝜇−2𝜎μ−2σ and 𝜇+2𝜎μ+2σ.\n",
    "\n",
    "# 99.7% of data: Approximately 99.7% of the data falls within 3 standard deviations of the mean, i.e., between 𝜇−3𝜎μ−3σ and 𝜇+3𝜎μ+3σ.\n",
    "\n",
    "# Example:\n",
    "\n",
    "# If the mean of a dataset is 100 and the standard deviation is 10:\n",
    "\n",
    "# 68% of the data will lie between 90 and 110.\n",
    "# 95% of the data will lie between 80 and 120.\n",
    "# 99.7% of the data will lie between 70 and 130."
   ]
  },
  {
   "cell_type": "code",
   "execution_count": 11,
   "metadata": {},
   "outputs": [
    {
     "data": {
      "text/plain": [
       "'10. Provide a real-life example of a Poisson process and calculate the probability for a specific event.'"
      ]
     },
     "execution_count": 11,
     "metadata": {},
     "output_type": "execute_result"
    }
   ],
   "source": [
    "\"\"\"10. Provide a real-life example of a Poisson process and calculate the probability for a specific event.\"\"\"\n",
    "\n",
    "# Real-Life Example of a Poisson Process\n",
    "\n",
    "# A Poisson process models events happening randomly and independently over a fixed interval of time or space, with a constant average rate of occurrence. One common real-life example is the number of customer arrivals at a store.\n",
    "\n",
    "# Example: Customer Arrivals at a Store\n",
    "\n",
    "# Suppose a small grocery store receives an average of 5 customers every 10 minutes. We can model the customer arrivals as a Poisson process, where the average rate of customer arrivals is 5 customers per 10 minutes.\n",
    "\n",
    "# Poisson Distribution Formula\n",
    "\n",
    "# The Poisson probability of observing exactly k events in a fixed interval is given by:\n",
    "\n",
    "# P(X = k) = (λ^k * e^(-λ)) / k!\n",
    "\n",
    "# Where:\n",
    "\n",
    "# λ (lambda) = the average number of events (e.g., average rate = 5 customers in 10 minutes).\n",
    "# k = the number of events you want to calculate the probability for.\n",
    "# e = Euler’s number (approximately 2.71828).\n",
    "\n",
    "# Calculate the Probability for a Specific Event\n",
    "        \n",
    "# Let’s say you want to calculate the probability that exactly 3 customers will arrive in the next 10 minutes.\n",
    "\n",
    "# λ = 5 (average number of customers per 10 minutes).\n",
    "# k = 3 (number of customers).\n",
    "\n",
    "# Using the Poisson formula:\n",
    "\n",
    "# P(X = 3) = (5^3 * e^(-5)) / 3!\n",
    "#          = (125 * e^(-5)) / 6\n",
    "#          = (125 * 0.006737947) / 6\n",
    "#          = 0.140373946 / 6\n",
    "#          ≈ 0.1404\n",
    "\n",
    "# So, the probability of exactly 3 customers arriving in the next 10 minutes is approximately 0.1404, or 14.04%."
   ]
  },
  {
   "cell_type": "code",
   "execution_count": 13,
   "metadata": {},
   "outputs": [
    {
     "data": {
      "text/plain": [
       "'11. Explain what a random variable is and differentiate between discrete and continuous random variables.'"
      ]
     },
     "execution_count": 13,
     "metadata": {},
     "output_type": "execute_result"
    }
   ],
   "source": [
    "\"\"\"11. Explain what a random variable is and differentiate between discrete and continuous random variables.\"\"\"\n",
    "\n",
    "# Random Variable\n",
    "\n",
    "# A random variable is a numerical value associated with the outcomes of a random experiment. It assigns a number to each possible outcome of a random event. There are two main types of random variables: discrete and continuous.\n",
    "\n",
    "# 1. Discrete Random Variables\n",
    "\n",
    "# A discrete random variable takes on a countable number of distinct values. These variables are typically associated with outcomes that are the result of a counting process (like the number of heads in coin tosses or the number of customers arriving at a store).\n",
    "\n",
    "# Characteristics:\n",
    "\n",
    "# Can take only specific, distinct values (often integers).\n",
    "# The probability of each outcome is well-defined.\n",
    "\n",
    "# Examples:\n",
    "# The number of students in a class (1, 2, 3, …).\n",
    "# The number of goals scored in a soccer match (0, 1, 2, …).\n",
    "                                              \n",
    "# Probability Distribution:\n",
    "\n",
    "# For discrete random variables, we use a probability mass function (PMF) to describe the probability of each possible value.\n",
    "\n",
    "# Example: The probability of getting heads in 3 coin tosses could be described as:\n",
    "\n",
    "# P(X = 0) = 0.125, P(X = 1) = 0.375, P(X = 2) = 0.375, P(X = 3) = 0.125\n",
    "\n",
    "# 2. Continuous Random Variables\n",
    "\n",
    "# A continuous random variable can take any value within a given range, often as the result of a measurement process (like height, weight, or time). These variables are uncountable because they can take an infinite number of possible values within a continuous range.\n",
    "\n",
    "# Characteristics:\n",
    "\n",
    "# Can take any value within a continuous range.\n",
    "# Probabilities are associated with intervals rather than specific values.\n",
    "\n",
    "# Examples:\n",
    "\n",
    "# The height of people (e.g., 170.25 cm, 170.26 cm, etc.).\n",
    "# The time it takes to finish a race (e.g., 12.53 seconds, 12.54 seconds, etc.).\n",
    "\n",
    "# Probability Distribution:\n",
    "\n",
    "# For continuous random variables, we use a probability density function (PDF). The probability of the variable taking any specific value is zero, so we calculate the probability over intervals.\n",
    "\n",
    "# Example: The probability that a person's height is between 160 cm and 170 cm.\n",
    "\n",
    "# Summary of Differences\n",
    "\n",
    "# Discrete Random Variable           | Continuous Random Variable\n",
    "# -----------------------------------|--------------------------------------\n",
    "# Takes on distinct, countable values | Takes on any value within a range\n",
    "# Associated with outcomes from counting | Associated with outcomes from measurement\n",
    "# Described by a PMF                 | Described by a PDF\n",
    "\n",
    "# Example: Number of cars in a parking lot | Example: Time to complete a task"
   ]
  },
  {
   "cell_type": "code",
   "execution_count": null,
   "metadata": {},
   "outputs": [],
   "source": [
    "\"\"\"12. Provide an example dataset, calculate both covariance and correlation, and interpret the results.\"\"\"\n",
    "\n",
    "# Example Dataset\n",
    "\n",
    "# Here is a dataset showing the hours studied and test scores for 5 students:\n",
    "\n",
    "# Student | Hours Studied (X) | Test Score (Y)\n",
    "# 1       | 2                  | 50\n",
    "# 2       | 4                  | 60\n",
    "# 3       | 6                  | 70\n",
    "# 4       | 8                  | 80\n",
    "# 5       | 10                 | 90\n",
    "\n",
    "# Step 1: Calculate Covariance\n",
    "\n",
    "# Covariance Formula:\n",
    "\n",
    "# Cov(X, Y) = Σ (X_i - X̄)(Y_i - Ȳ) / (n - 1)\n",
    "\n",
    "# Step-by-step Calculation:\n",
    "\n",
    "# Calculate the mean of X and Y:\n",
    "\n",
    "# X̄ = (2 + 4 + 6 + 8 + 10) / 5 = 6\n",
    "# Ȳ = (50 + 60 + 70 + 80 + 90) / 5 = 70\n",
    "\n",
    "# Find the deviations from the mean for X and Y, and multiply them:\n",
    "\n",
    "# Student | X (Hours Studied) | Y (Test Score) | X - X̄ | Y - Ȳ | (X - X̄)(Y - Ȳ)\n",
    "# 1       | 2                  | 50              | -4     | -20    | 80\n",
    "# 2       | 4                  | 60              | -2     | -10    | 20\n",
    "# 3       | 6                  | 70              | 0      | 0      | 0\n",
    "# 4       | 8                  | 80              | 2      | 10     | 20\n",
    "# 5       | 10                 | 90              | 4      | 20     | 80\n",
    "\n",
    "# Sum the products of the deviations:\n",
    "\n",
    "# Σ (X - X̄)(Y - Ȳ) = 80 + 20 + 0 + 20 + 80 = 200\n",
    "\n",
    "# Calculate covariance:\n",
    "\n",
    "# Cov(X, Y) = 200 / (5 - 1) = 200 / 4 = 50\n",
    "\n",
    "\n",
    "# Step 2: Calculate Correlation\n",
    "\n",
    "# The correlation formula is:\n",
    "\n",
    "# r = Cov(X, Y) / (σ_X * σ_Y)\n",
    "\n",
    "# Step-by-step Calculation:\n",
    "\n",
    "# Calculate the standard deviation of X and Y:\n",
    "\n",
    "# σ_X = √(Σ (X_i - X̄)² / (n - 1))\n",
    "#     = √((16 + 4 + 0 + 4 + 16) / 4)\n",
    "#     = √(10) ≈ 3.16\n",
    "\n",
    "# σ_Y = √(Σ (Y_i - Ȳ)² / (n - 1))\n",
    "#     = √((400 + 100 + 0 + 100 + 400) / 4)\n",
    "#     = √(250) ≈ 15.81\n",
    "\n",
    "\n",
    "\n",
    "# Calculate the correlation:\n",
    "\n",
    "# r = 50 / (3.16 * 15.81) \n",
    "#   ≈ 50 / 49.99 \n",
    "#   ≈ 1\n",
    "\n",
    "# Interpretation of Results\n",
    "\n",
    "# Covariance (50): A positive covariance indicates that as the number of hours studied increases, test scores also increase, which means there is a direct relationship between the two variables.\n",
    "\n",
    "# Correlation (1): A correlation coefficient of 1 indicates a perfect positive linear relationship between hours studied and test scores. This means that as students study more, their test scores increase proportionally."
   ]
  }
 ],
 "metadata": {
  "kernelspec": {
   "display_name": "Python 3",
   "language": "python",
   "name": "python3"
  },
  "language_info": {
   "codemirror_mode": {
    "name": "ipython",
    "version": 3
   },
   "file_extension": ".py",
   "mimetype": "text/x-python",
   "name": "python",
   "nbconvert_exporter": "python",
   "pygments_lexer": "ipython3",
   "version": "3.11.6 (tags/v3.11.6:8b6ee5b, Oct  2 2023, 14:57:12) [MSC v.1935 64 bit (AMD64)]"
  },
  "orig_nbformat": 4,
  "vscode": {
   "interpreter": {
    "hash": "282c90fa99d66a5e10afe30c308da735893886f13911a72ff2af6a546cc9d02e"
   }
  }
 },
 "nbformat": 4,
 "nbformat_minor": 2
}
